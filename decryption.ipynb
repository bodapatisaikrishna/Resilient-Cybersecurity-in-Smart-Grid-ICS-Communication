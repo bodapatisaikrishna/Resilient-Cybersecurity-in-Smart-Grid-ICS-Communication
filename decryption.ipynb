{
 "cells": [
  {
   "cell_type": "code",
   "execution_count": null,
   "metadata": {},
   "outputs": [
    {
     "name": "stdout",
     "output_type": "stream",
     "text": [
      "Generated Key (before hashing): b'MjAyNTAzMTUxOTI2\\x00\\x00\\x00\\x00\\x00\\x00\\x00\\x00\\x00\\x00\\x00\\x00\\x00\\x00\\x00\\x00'\n",
      "Hashed Key: b'\\x11\\xa1\\xfc\\x0e\\xfe\\xabw?qH\\x97KY\\xa3\\xb8hU\\xa7\\xbb\\xbcz\\xaa(\\xcbae\\xd1T\\xc8\\xea\\x0e\\x1b'\n",
      "Decrypted CSV saved to /Users/bodapati/Documents/decrypted_data.csv\n"
     ]
    }
   ],
   "source": [
    "import base64\n",
    "import os\n",
    "from datetime import datetime, timezone\n",
    "from cryptography.hazmat.primitives.ciphers import Cipher, algorithms, modes\n",
    "from cryptography.hazmat.backends import default_backend\n",
    "from cryptography.hazmat.primitives import padding\n",
    "import csv\n",
    "import blake3\n",
    "\n",
    "# Function to generate a dynamic key based on the current minute\n",
    "def generate_key():\n",
    "    \"\"\"Generate a dynamic key based on the current time.\"\"\"\n",
    "    current_time = datetime.now(timezone.utc)  # Get current time in UTC\n",
    "    time_str = current_time.strftime(\"%Y%m%d%H%M\")  # Get year, month, day, hour, and minute as a string\n",
    "    key = base64.urlsafe_b64encode(time_str.encode('utf-8')).ljust(32, b'\\0')\n",
    "    return key[:32]\n",
    "\n",
    "# Function to hash the key using blake3\n",
    "def hash_key(key):\n",
    "    \"\"\"Hash the key using blake3.\"\"\"\n",
    "    return blake3.blake3(key).digest()\n",
    "\n",
    "# Function to decrypt data using AES\n",
    "def decrypt(encrypted_data, key):\n",
    "    \"\"\"Decrypt data using the provided key.\"\"\"\n",
    "    iv = encrypted_data[:16]\n",
    "    encrypted_data = encrypted_data[16:]\n",
    "\n",
    "    cipher = Cipher(algorithms.AES(key), modes.CBC(iv), backend=default_backend())\n",
    "    decryptor = cipher.decryptor()\n",
    "\n",
    "    padded_data = decryptor.update(encrypted_data) + decryptor.finalize()\n",
    "\n",
    "    unpadder = padding.PKCS7(algorithms.AES.block_size).unpadder()\n",
    "    data = unpadder.update(padded_data) + unpadder.finalize()\n",
    "    \n",
    "    return data\n",
    "\n",
    "# Function to decrypt a CSV file\n",
    "def decrypt_csv(encrypted_csv, decrypted_csv):\n",
    "    \"\"\"Decrypt a CSV file.\"\"\"\n",
    "    # Read the encrypted data from the file\n",
    "    with open(encrypted_csv, 'rb') as infile:\n",
    "        encrypted_data = infile.read()\n",
    "\n",
    "    # Generate key based on current time\n",
    "    key = generate_key()\n",
    "    print(f\"Generated Key (before hashing): {key}\")\n",
    "\n",
    "    # Hash the key using blake3\n",
    "    hashed_key = hash_key(key)\n",
    "    print(f\"Hashed Key: {hashed_key}\")\n",
    "\n",
    "    # Decrypt the data\n",
    "    data = decrypt(encrypted_data, hashed_key)\n",
    "\n",
    "    # Convert bytes back to CSV rows\n",
    "    rows = data.decode('utf-8').split(\"\\n\")\n",
    "    rows = [row.split(\",\") for row in rows]\n",
    "\n",
    "    # Save the decrypted data to a CSV file\n",
    "    with open(decrypted_csv, 'w', newline='') as outfile:\n",
    "        writer = csv.writer(outfile)\n",
    "        writer.writerows(rows)\n",
    "\n",
    "    print(f\"Decrypted CSV saved to {decrypted_csv}\")\n",
    "\n",
    "# Example usage: Decrypt the CSV file\n",
    "if __name__ == \"__main__\":\n",
    "    encrypted_csv = \"/Users/bodapati/Documents/encrypted_data.csv\"  \n",
    "    decrypted_csv = \"/Users/bodapati/Documents/decrypted_data.csv\"\n",
    "    decrypt_csv(encrypted_csv, decrypted_csv)"
   ]
  }
 ],
 "metadata": {
  "kernelspec": {
   "display_name": "Python 3",
   "language": "python",
   "name": "python3"
  },
  "language_info": {
   "codemirror_mode": {
    "name": "ipython",
    "version": 3
   },
   "file_extension": ".py",
   "mimetype": "text/x-python",
   "name": "python",
   "nbconvert_exporter": "python",
   "pygments_lexer": "ipython3",
   "version": "3.12.0"
  }
 },
 "nbformat": 4,
 "nbformat_minor": 2
}
